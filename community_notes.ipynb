{
 "cells": [
  {
   "cell_type": "code",
   "execution_count": 1,
   "id": "a257f021-dc0b-467b-adaa-51ac919e89a2",
   "metadata": {},
   "outputs": [],
   "source": [
    "import pandas as pd\n",
    "import requests\n",
    "from io import StringIO\n"
   ]
  },
  {
   "cell_type": "code",
   "execution_count": 2,
   "id": "f5d2a2a0-1c75-45fc-b92b-5fa2552b8b88",
   "metadata": {},
   "outputs": [
    {
     "name": "stderr",
     "output_type": "stream",
     "text": [
      "/Users/quintonlaurencio/Documents/Python/jupyter/minerva/venv/lib/python3.10/site-packages/urllib3/connectionpool.py:1103: InsecureRequestWarning: Unverified HTTPS request is being made to host 'ton.twimg.com'. Adding certificate verification is strongly advised. See: https://urllib3.readthedocs.io/en/latest/advanced-usage.html#tls-warnings\n",
      "  warnings.warn(\n",
      "/var/folders/3d/cj5fq1cn4p9ddcw7120nk_gm0000gn/T/ipykernel_4714/3945578452.py:5: DtypeWarning: Columns (5,6,7) have mixed types. Specify dtype option on import or set low_memory=False.\n",
      "  df = pd.read_csv(data, delimiter='\\t')\n"
     ]
    }
   ],
   "source": [
    "url = 'https://ton.twimg.com/birdwatch-public-data/2024/05/05/notes/notes-00000.tsv'\n",
    "response = requests.get(url, verify=False)\n",
    "response.raise_for_status()\n",
    "data = StringIO(response.text)\n",
    "df = pd.read_csv(data, delimiter='\\t')"
   ]
  },
  {
   "cell_type": "code",
   "execution_count": 10,
   "id": "d2418ccc-75c3-4cc3-86b1-743cce5944c3",
   "metadata": {},
   "outputs": [
    {
     "name": "stdout",
     "output_type": "stream",
     "text": [
      "(797807, 23)\n",
      "Index(['noteId', 'noteAuthorParticipantId', 'createdAtMillis', 'tweetId',\n",
      "       'classification', 'believable', 'harmful', 'validationDifficulty',\n",
      "       'misleadingOther', 'misleadingFactualError',\n",
      "       'misleadingManipulatedMedia', 'misleadingOutdatedInformation',\n",
      "       'misleadingMissingImportantContext', 'misleadingUnverifiedClaimAsFact',\n",
      "       'misleadingSatire', 'notMisleadingOther',\n",
      "       'notMisleadingFactuallyCorrect',\n",
      "       'notMisleadingOutdatedButNotWhenWritten', 'notMisleadingClearlySatire',\n",
      "       'notMisleadingPersonalOpinion', 'trustworthySources', 'summary',\n",
      "       'isMediaNote'],\n",
      "      dtype='object')\n",
      "1783159712986382830\n",
      "The House failed to pass a border protection law that was designed to go along with these other bills.  It was intentionally set with a higher 2/3rds threshold requirement and did not pass even though it had a majority.       https://sourcenm.com/2024/04/22/u-s-house-votes-down-border-bill-favored-by-conservatives/    \n"
     ]
    }
   ],
   "source": [
    "print(df.shape)\n",
    "print(df.columns)\n",
    "print(df.tweetId.iloc[0])\n",
    "print(df.summary.iloc[0])"
   ]
  },
  {
   "cell_type": "markdown",
   "id": "6d0d782b-cb85-4b6f-a0a1-f8b73543a0d2",
   "metadata": {},
   "source": [
    "we can get the tweet from **tweetId** by appending it to the following: https://twitter.com/SenTedCruz/status/"
   ]
  },
  {
   "cell_type": "code",
   "execution_count": null,
   "id": "6f8d9f58-1c4c-48de-93c8-030e08fdd40f",
   "metadata": {},
   "outputs": [],
   "source": []
  }
 ],
 "metadata": {
  "kernelspec": {
   "display_name": "Python 3 (ipykernel)",
   "language": "python",
   "name": "python3"
  },
  "language_info": {
   "codemirror_mode": {
    "name": "ipython",
    "version": 3
   },
   "file_extension": ".py",
   "mimetype": "text/x-python",
   "name": "python",
   "nbconvert_exporter": "python",
   "pygments_lexer": "ipython3",
   "version": "3.10.6"
  }
 },
 "nbformat": 4,
 "nbformat_minor": 5
}
