{
 "cells": [
  {
   "cell_type": "code",
   "execution_count": 3,
   "id": "a257f021-dc0b-467b-adaa-51ac919e89a2",
   "metadata": {},
   "outputs": [],
   "source": [
    "import pandas as pd\n",
    "import requests\n",
    "from io import StringIO\n"
   ]
  },
  {
   "cell_type": "code",
   "execution_count": 5,
   "id": "f5d2a2a0-1c75-45fc-b92b-5fa2552b8b88",
   "metadata": {},
   "outputs": [
    {
     "name": "stderr",
     "output_type": "stream",
     "text": [
      "/Users/quintonlaurencio/Documents/Python/jupyter/myenv/lib/python3.10/site-packages/urllib3/connectionpool.py:1103: InsecureRequestWarning: Unverified HTTPS request is being made to host 'ton.twimg.com'. Adding certificate verification is strongly advised. See: https://urllib3.readthedocs.io/en/latest/advanced-usage.html#tls-warnings\n",
      "  warnings.warn(\n",
      "/var/folders/3d/cj5fq1cn4p9ddcw7120nk_gm0000gn/T/ipykernel_3645/2261811919.py:5: DtypeWarning: Columns (5,6,7) have mixed types. Specify dtype option on import or set low_memory=False.\n",
      "  df = pd.read_csv(data, delimiter='\\t')\n"
     ]
    },
    {
     "name": "stdout",
     "output_type": "stream",
     "text": [
      "                noteId                            noteAuthorParticipantId  \\\n",
      "0  1783179305159200982  C784F04F26E124F4D6EC01658D8F5565005D3092741FB3...   \n",
      "1  1783181538789605871  C784F04F26E124F4D6EC01658D8F5565005D3092741FB3...   \n",
      "2  1783182562279494134  C784F04F26E124F4D6EC01658D8F5565005D3092741FB3...   \n",
      "3  1537142913737428992  5684B38EB58FD8BE75ABA37F0BE040EC70380B002ADF9D...   \n",
      "4  1537145358521839617  5684B38EB58FD8BE75ABA37F0BE040EC70380B002ADF9D...   \n",
      "\n",
      "   createdAtMillis              tweetId  \\\n",
      "0    1713978050878  1783159712986382830   \n",
      "1    1713978583415  1783171851818021181   \n",
      "2    1713978827435  1783154445682979015   \n",
      "3    1655318404027  1377030478167937024   \n",
      "4    1655318986910  1536848327979016193   \n",
      "\n",
      "                          classification          believable  \\\n",
      "0  MISINFORMED_OR_POTENTIALLY_MISLEADING                 NaN   \n",
      "1  MISINFORMED_OR_POTENTIALLY_MISLEADING                 NaN   \n",
      "2  MISINFORMED_OR_POTENTIALLY_MISLEADING                 NaN   \n",
      "3  MISINFORMED_OR_POTENTIALLY_MISLEADING  BELIEVABLE_BY_MANY   \n",
      "4                         NOT_MISLEADING                 NaN   \n",
      "\n",
      "             harmful validationDifficulty  misleadingOther  \\\n",
      "0                NaN                  NaN                0   \n",
      "1                NaN                  NaN                0   \n",
      "2                NaN                  NaN                0   \n",
      "3  CONSIDERABLE_HARM                 EASY                0   \n",
      "4                NaN                  NaN                0   \n",
      "\n",
      "   misleadingFactualError  ...  misleadingUnverifiedClaimAsFact  \\\n",
      "0                       0  ...                                0   \n",
      "1                       1  ...                                1   \n",
      "2                       0  ...                                0   \n",
      "3                       1  ...                                1   \n",
      "4                       0  ...                                0   \n",
      "\n",
      "   misleadingSatire  notMisleadingOther  notMisleadingFactuallyCorrect  \\\n",
      "0                 0                   0                              0   \n",
      "1                 0                   0                              0   \n",
      "2                 0                   0                              0   \n",
      "3                 0                   0                              0   \n",
      "4                 0                   0                              0   \n",
      "\n",
      "   notMisleadingOutdatedButNotWhenWritten  notMisleadingClearlySatire  \\\n",
      "0                                       0                           0   \n",
      "1                                       0                           0   \n",
      "2                                       0                           0   \n",
      "3                                       0                           0   \n",
      "4                                       0                           1   \n",
      "\n",
      "   notMisleadingPersonalOpinion  trustworthySources  \\\n",
      "0                             0                   1   \n",
      "1                             0                   1   \n",
      "2                             0                   1   \n",
      "3                             0                   1   \n",
      "4                             1                   0   \n",
      "\n",
      "                                             summary  isMediaNote  \n",
      "0  The House failed to pass a border protection l...            0  \n",
      "1  The United States has 50 States     https://da...            0  \n",
      "2  TikTok only mentions âbanâ and chooses to ...            0  \n",
      "3  Forbes has a good rundown of the investigation...            0  \n",
      "4  They are expressing a personal opinion in a st...            0  \n",
      "\n",
      "[5 rows x 23 columns]\n"
     ]
    }
   ],
   "source": [
    "url = 'https://ton.twimg.com/birdwatch-public-data/2024/05/05/notes/notes-00000.tsv'\n",
    "response = requests.get(url, verify=False)\n",
    "response.raise_for_status()\n",
    "data = StringIO(response.text)\n",
    "df = pd.read_csv(data, delimiter='\\t')"
   ]
  },
  {
   "cell_type": "code",
   "execution_count": 7,
   "id": "d2418ccc-75c3-4cc3-86b1-743cce5944c3",
   "metadata": {},
   "outputs": [
    {
     "name": "stdout",
     "output_type": "stream",
     "text": [
      "(797807, 23)\n"
     ]
    }
   ],
   "source": [
    "print(df.shape)\n"
   ]
  }
 ],
 "metadata": {
  "kernelspec": {
   "display_name": "Python 3 (ipykernel)",
   "language": "python",
   "name": "python3"
  },
  "language_info": {
   "codemirror_mode": {
    "name": "ipython",
    "version": 3
   },
   "file_extension": ".py",
   "mimetype": "text/x-python",
   "name": "python",
   "nbconvert_exporter": "python",
   "pygments_lexer": "ipython3",
   "version": "3.10.6"
  }
 },
 "nbformat": 4,
 "nbformat_minor": 5
}
